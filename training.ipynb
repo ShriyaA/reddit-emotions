{
 "cells": [
  {
   "cell_type": "code",
   "execution_count": null,
   "metadata": {
    "colab": {
     "base_uri": "https://localhost:8080/"
    },
    "id": "9NJx9_DbUs1B",
    "outputId": "c0dc529d-b3fd-4c00-b5f2-1ec62076383d"
   },
   "outputs": [],
   "source": [
    "!wget https://raw.githubusercontent.com/google-research/google-research/master/goemotions/data/emotions.txt\n",
    "!wget https://raw.githubusercontent.com/google-research/google-research/master/goemotions/data/sentiment_dict.json\n",
    "!wget https://raw.githubusercontent.com/google-research/google-research/master/goemotions/data/sentiment_mapping.json\n",
    "!wget https://raw.githubusercontent.com/google-research/google-research/master/goemotions/data/ekman_mapping.json\n",
    "!wget https://raw.githubusercontent.com/google-research/google-research/master/goemotions/data/test.tsv\n",
    "!wget https://raw.githubusercontent.com/google-research/google-research/master/goemotions/data/dev.tsv\n",
    "!wget https://raw.githubusercontent.com/google-research/google-research/master/goemotions/data/train.tsv"
   ]
  },
  {
   "cell_type": "code",
   "execution_count": null,
   "metadata": {
    "id": "uXIrvikjzE0D"
   },
   "outputs": [],
   "source": [
    "import torch\n",
    "import csv\n",
    "import numpy as np\n",
    "from torch import nn\n",
    "from torch.utils.data import Dataset, DataLoader, Subset\n",
    "from transformers import AutoTokenizer, AutoConfig, AutoModelForSequenceClassification\n",
    "from transformers import optimization\n",
    "from tqdm.notebook import tqdm\n",
    "from sklearn.metrics import precision_score, recall_score, f1_score, fbeta_score, accuracy_score\n",
    "from sklearn.preprocessing import MultiLabelBinarizer"
   ]
  },
  {
   "cell_type": "code",
   "execution_count": null,
   "metadata": {
    "id": "q8_E1dIGzOxi"
   },
   "outputs": [],
   "source": [
    "train_file = \"./train.tsv\"\n",
    "dev_file = \"./dev.tsv\"\n",
    "test_file = \"./test.tsv\"\n",
    "sentiment_mapping_file = \"./sentiment_mapping.json\"\n",
    "emotions_file = \"./emotions.txt\"\n",
    "ekman_mapping_file = \"./ekman_mapping.json\""
   ]
  },
  {
   "cell_type": "code",
   "execution_count": null,
   "metadata": {
    "id": "O8Yq06Tdzkwd"
   },
   "outputs": [],
   "source": [
    "with open(ekman_mapping_file, \"r\") as f:\n",
    "    ekman_mapping = json.load(f)\n",
    "ekman_mapping['neutral'] = ['neutral']\n",
    "\n",
    "with open(sentiment_mapping_file, \"r\") as f:\n",
    "    sentiment_mapping = json.load(f)\n",
    "sentiment_mapping['neutral'] = ['neutral']\n",
    "\n",
    "emotions = []\n",
    "with open(emotions_file) as f:\n",
    "    emotions = f.readlines()\n",
    "emotions = [x.strip() for x in emotions]"
   ]
  },
  {
   "cell_type": "code",
   "execution_count": null,
   "metadata": {
    "id": "3EpO-Yk202gw"
   },
   "outputs": [],
   "source": [
    "emotion_to_index = dict(zip(emotions, range(len(emotions))))\n",
    "index_to_emotion = dict(zip(range(len(emotions)), emotions))\n",
    "ekman_mapping_reverse = {x:key for key, value in ekman_mapping.items() for x in value}\n",
    "ekman_classes = dict(zip(ekman_mapping.keys(), range(len(ekman_mapping.keys()))))\n",
    "sentiment_mapping_reverse = {x:key for key, value in sentiment_mapping.items() for x in value}\n",
    "sentiment_classes = dict(zip(sentiment_mapping.keys(), range(len(sentiment_mapping.keys()))))"
   ]
  },
  {
   "cell_type": "code",
   "execution_count": null,
   "metadata": {
    "id": "RNlMyASq1SMu"
   },
   "outputs": [],
   "source": [
    "ekman_encoder = MultiLabelBinarizer(classes=range(len(ekman_mapping.keys())))\n",
    "sentiment_encoder = MultiLabelBinarizer(classes=range(len(sentiment_mapping.keys())))"
   ]
  },
  {
   "cell_type": "code",
   "execution_count": null,
   "metadata": {
    "id": "q2HK-Fss1nN9"
   },
   "outputs": [],
   "source": [
    "def get_ekman_from_emotion_index(idx):\n",
    "    idx = int(idx)\n",
    "    if idx < 0 or idx > 27:\n",
    "        return None\n",
    "    return ekman_classes[ekman_mapping_reverse[index_to_emotion[idx]]]\n",
    "\n",
    "def get_sentiment_from_emotion_index(idx):\n",
    "    idx = int(idx)\n",
    "    if idx < 0 or idx > 27:\n",
    "        return None\n",
    "    return sentiment_classes[sentiment_mapping_reverse[idx]]"
   ]
  },
  {
   "cell_type": "code",
   "execution_count": null,
   "metadata": {
    "id": "LPvAawmX16fm"
   },
   "outputs": [],
   "source": [
    "class GoEmotionsDataset(Dataset):\n",
    "    def __init__(self, file, encoder, ekman=True):\n",
    "        self.samples = []\n",
    "        with open(file, 'r') as csvfile:\n",
    "            reader = csv.reader(csvfile, delimiter='\\t')\n",
    "            for row in reader:\n",
    "                text = row[0]\n",
    "                labels = row[1].split(',')\n",
    "                class_labels = []\n",
    "                for label in labels:\n",
    "                    class_label = get_ekman_from_emotion_index(label)\n",
    "                    if class_label not in class_labels:\n",
    "                        class_labels.append(class_label)\n",
    "                encoded_labels = encoder.fit_transform([class_labels])[0]\n",
    "                self.samples.append({'text': text, 'labels': encoded_labels})\n",
    "\n",
    "  \n",
    "    def __len__(self):\n",
    "        return len(self.samples)\n",
    "\n",
    "    def __getitem__(self, index):\n",
    "        return self.samples[index]"
   ]
  },
  {
   "cell_type": "code",
   "execution_count": null,
   "metadata": {
    "id": "CbyM16rs19_x"
   },
   "outputs": [],
   "source": [
    "devset = GoEmotionsDataset(dev_file, ekman_encoder)\n",
    "trainset = GoEmotionsDataset(train_file, ekman_encoder)\n",
    "testset = GoEmotionsDataset(test_file, ekman_encoder)"
   ]
  },
  {
   "cell_type": "code",
   "execution_count": null,
   "metadata": {
    "colab": {
     "base_uri": "https://localhost:8080/"
    },
    "id": "5VcqknF72iPL",
    "outputId": "2994a900-c227-4dad-f250-319d33d9ec42"
   },
   "outputs": [],
   "source": [
    "device = torch.device('cuda' if torch.cuda.is_available() else 'cpu')\n",
    "print(f'Using device \"{device}\"')\n",
    "print(torch.cuda.get_device_name())"
   ]
  },
  {
   "cell_type": "code",
   "execution_count": null,
   "metadata": {
    "id": "nnSHtrBY2kwE"
   },
   "outputs": [],
   "source": [
    "tokenizer = AutoTokenizer.from_pretrained('bert-base-cased')\n",
    "config = AutoConfig.from_pretrained('bert-base-cased', dropout=0.1, num_labels=7)\n",
    "model = AutoModelForSequenceClassification.from_config(config)\n",
    "model.to(device)"
   ]
  },
  {
   "cell_type": "code",
   "execution_count": null,
   "metadata": {
    "id": "vdAvwZZfRZfo"
   },
   "outputs": [],
   "source": [
    "batch_size = 16\n",
    "num_epochs = 4\n",
    "warmup_proportion = 0.1\n",
    "num_training_steps = int((len(trainset) / batch_size) * num_epochs)\n",
    "num_warmup_steps = int(warmup_proportion * num_training_steps)"
   ]
  },
  {
   "cell_type": "code",
   "execution_count": null,
   "metadata": {
    "id": "TLN5IFPNNngB"
   },
   "outputs": [],
   "source": [
    "param_optimizer = list(model.named_parameters())\n",
    "no_decay = [\"LayerNorm\", \"layer_norm\", \"bias\"]\n",
    "optimizer_grouped_parameters = [\n",
    "    {'params': [p for n, p in param_optimizer if not any(nd in n for nd in no_decay)],\n",
    "     'weight_decay_rate': 0.01},\n",
    "    {'params': [p for n, p in param_optimizer if any(nd in n for nd in no_decay)],\n",
    "     'weight_decay_rate': 0.0}\n",
    "]"
   ]
  },
  {
   "cell_type": "code",
   "execution_count": null,
   "metadata": {
    "id": "xeLXEnfn4fHe"
   },
   "outputs": [],
   "source": [
    "optimizer = optimization.AdamW(optimizer_grouped_parameters, lr=5e-5,betas=(0.9, 0.999), eps=1e-6)\n",
    "scheduler = optimization.get_polynomial_decay_schedule_with_warmup(optimizer, num_warmup_steps=num_warmup_steps, num_training_steps=num_training_steps, lr_end=0.0)\n",
    "criterion = nn.BCEWithLogitsLoss()"
   ]
  },
  {
   "cell_type": "code",
   "execution_count": null,
   "metadata": {
    "colab": {
     "base_uri": "https://localhost:8080/",
     "height": 877,
     "referenced_widgets": [
      "b2ee81c4202d42e580e9d06c4b4c7ea2",
      "1a99113869434ec480fccbf9bc9b2646",
      "bb7ec90f14634365be74b83a3f2d24cf",
      "aabc6eb9788049e3aaed5ceac058b017",
      "b6c95fed5e8a44a8b692b570236654ae",
      "f536e920f65a47d2a16dd8809037296f",
      "12d87168e209411f8c0762bce6a7b03e",
      "94c61e76c5324ca081859dce0907ebed",
      "38826d4c62b644469b34ecf7d71106e7",
      "c127452b68024bdb82fb2e4055837e61",
      "f812a172670646e482a6e6729f073e38",
      "c0e2806263b84985a080a06c6969097e",
      "792f270e959745deb4b2b7033a0c776a",
      "6a9a4c318c2c44dfb2b53c85401b4c97",
      "65e5cfba0b7a487f83107b2084ea8dcb",
      "64c271edb36f48599710ec951078f51e",
      "c23b2fb8c9cd488090ce78a6b2b3c00a",
      "930d6adf05c1464fb8fd0d300476fd37",
      "08a928bd58d54402a8a0ccd8b41e3a34",
      "724268ec2bc04d2eb7cf65daa3373f13",
      "d035b2e26ab745229eec620c74c532ea",
      "c8b6d2800f984affbf2a11728948924f",
      "adf1287639a94f9f922312b0a82378a9",
      "de47df7e8af545998900801291b1b98e",
      "d6671e701c774d7d85476c3532d7b3e5",
      "e7dd893768594d50b6282301804ccdd0",
      "43b14a9e6cbc41bfb21bc37dc865b884",
      "c665107c7a4042dbbda6491f4320ba9b",
      "7f9768ad7ee4473faa0bd37ad3e04de0",
      "eccd4f4ee26f4ff8b14aa1418055c461",
      "ba1096dbed2b4ced90714134e05ff742",
      "e2bbb18724284672a38bc888a65e8cf2",
      "ec615a993c824d76b858403e8158a9e4",
      "00ab254e2dfe4e5c860b4dea5a6d8a78",
      "574e18ed615d41c4987f7ca9addee77f",
      "eb655518a98a4ad0bd40c890293d31f5",
      "086d2a72bb6f44ad9c1958346d75b480",
      "21bc0c9269c14c52b771add950e40d7d",
      "9e852d3ea2564839a8c2adaca200e7f2",
      "0da4f434796540708840829d4f8a0203",
      "ac4e2da1f5c64c9f958c3f3ab6475e6f",
      "e4b1230ea3c1408481c3069f52f1ed70",
      "6427146d1a7848678a0d6bd68e8fb839",
      "5fb44a97438241fcba1188f248bf8eba",
      "396d2f399610427f96f10075b051a058",
      "30ebae26bb3a48a8be1ae3a3faa0a2e3",
      "afb584da37fa4736953513a548a9373c",
      "74f72461c5a04568b9e67271aa8f210b",
      "41e0f9ecbfba42c9a31cf195c2260086",
      "495fa285954b4bd1bb42e8d5606b87ce",
      "f2b20a1194ae4b5789f60cc6bd233c09",
      "c641cc3f36ad4bf78d84595eab973dfa",
      "7cda0dd270114562afe337b9048bebb9",
      "897594628a024ff7a89217c8bef9f8fb",
      "f19d1c0415ed4cb5a884e48d9c29f32f",
      "71e4cfde7c314c0a9e2c0f4648638b21",
      "4faa4a4d2b384aac9a619a92c2df112b",
      "8e1988a444e24d31b1ae97a5bd23a929",
      "e66472a7af134ec2b17db1fd4e98840b",
      "0de4928af84e424f9948318b7ae525a8",
      "ba4dab8a99724e97baf9d657cd7f32f6",
      "602ec7cdef484572b3a4cdb3f609e702",
      "b98508de4c1d402c98fa3b6e3ef7dec9",
      "fbc8a0b9b14d4101b48f514f9af100a6"
     ]
    },
    "id": "HxkvifH73emY",
    "outputId": "b1a5e62d-edd7-4a29-c91e-96f6d454bab2"
   },
   "outputs": [],
   "source": [
    "trainloader = DataLoader(trainset, batch_size=16, shuffle=True)\n",
    "devloader = DataLoader(devset, batch_size=16, shuffle=False)\n",
    "dev_labels = [x['labels'].tolist() for x in devset]\n",
    "\n",
    "max_len = 50\n",
    "epochs = 4\n",
    "start_epoch = 1\n",
    "checkpoint_file = None\n",
    "\n",
    "min_dev_loss = math.inf\n",
    "threshold = 0.3\n",
    "train_losses = []\n",
    "dev_losses = []\n",
    "dev_f1 = []\n",
    "dev_precision = []\n",
    "dev_recall = []\n",
    "\n",
    "for e in range(start_epoch, epochs+1):\n",
    "    model.train()\n",
    "    running_loss = 0.0\n",
    "    for batch in tqdm(trainloader):\n",
    "        encoded_dict = tokenizer.batch_encode_plus(batch['text'], padding=True, max_length=max_len, truncation=True)\n",
    "        input_ids = torch.tensor(encoded_dict['input_ids'], dtype=torch.int64).to(device)\n",
    "        attention_mask = torch.tensor(encoded_dict['attention_mask'], dtype=torch.int64).to(device)\n",
    "        batch_labels = torch.squeeze(batch['labels'].type(torch.FloatTensor)).to(device)\n",
    "\n",
    "        optimizer.zero_grad()\n",
    "        output = model(input_ids, attention_mask=attention_mask)\n",
    "        logits = output[0]\n",
    "        loss = criterion(logits, batch_labels)\n",
    "        loss.backward()\n",
    "        optimizer.step()\n",
    "        scheduler.step()\n",
    "\n",
    "        running_loss += loss.item()\n",
    "\n",
    "    running_loss = running_loss/len(trainset)\n",
    "    train_losses.append(running_loss)\n",
    "    print(\"Train Loss: \", running_loss)\n",
    "\n",
    "    model.eval()\n",
    "    running_dev_loss = 0.0\n",
    "    predictions = []\n",
    "\n",
    "    with torch.no_grad():\n",
    "        for batch in tqdm(devloader):\n",
    "\n",
    "            encoded_dict = tokenizer.batch_encode_plus(batch['text'], padding=True, max_length=max_len, truncation=True)\n",
    "            input_ids = torch.tensor(encoded_dict['input_ids'], dtype=torch.int64).to(device)\n",
    "            attention_mask = torch.tensor(encoded_dict['attention_mask'], dtype=torch.int64).to(device)\n",
    "            batch_labels = torch.squeeze(batch['labels'].type(torch.FloatTensor)).to(device)\n",
    "\n",
    "            output = model(input_ids, attention_mask=attention_mask)\n",
    "            logits = output[0]\n",
    "            loss = criterion(logits, batch_labels)\n",
    "            logits = nn.functional.sigmoid(logits)\n",
    "            preds = [[1 if x>threshold else 0 for x in arr ] for arr in logits.cpu()]\n",
    "\n",
    "            running_dev_loss += loss.item()\n",
    "            predictions.extend(preds)\n",
    "  \n",
    "        running_dev_loss = running_dev_loss/len(devset)\n",
    "        dev_losses.append(running_dev_loss)\n",
    "\n",
    "    f1 = f1_score(dev_labels, predictions, average='micro')\n",
    "    precision = precision_score(dev_labels, predictions, average='micro')\n",
    "    recall = recall_score(dev_labels, predictions, average='micro')\n",
    "\n",
    "    dev_f1.append(f1)\n",
    "    dev_precision.append(precision)\n",
    "    dev_recall.append(recall)\n",
    "\n",
    "    print(\"Loss: \", running_dev_loss)\n",
    "    print(\"F1: \", dev_f1)\n",
    "    print(\"Precision: \", dev_precision)\n",
    "    print(\"Recall: \", dev_recall)"
   ]
  },
  {
   "cell_type": "code",
   "execution_count": null,
   "metadata": {
    "id": "Yyqe5gCF7she"
   },
   "outputs": [],
   "source": [
    "torch.save({\"epoch\": e,\n",
    "            \"model\": model.state_dict(),\n",
    "            \"f1\": f1,\n",
    "            \"min_loss\": min_dev_loss,\n",
    "            \"train_losses\": train_losses,\n",
    "            \"dev_losses\": dev_losses,\n",
    "            \"dev_f1\": dev_f1,\n",
    "            \"dev_precision\": dev_precision,\n",
    "            \"dev_recall\": dev_recall\n",
    "            },\n",
    "            \"final.pth.tar\")"
   ]
  },
  {
   "cell_type": "code",
   "execution_count": null,
   "metadata": {
    "id": "O9pFnbZ3igmD"
   },
   "outputs": [],
   "source": [
    "df_final['normalized_score'] = df_final.groupby('subreddit')['score'].transform(lambda x: (x-x.min())/(x.max()-x.min()))"
   ]
  },
  {
   "cell_type": "code",
   "execution_count": null,
   "metadata": {
    "id": "WVPJk0eOnEHJ"
   },
   "outputs": [],
   "source": [
    "df_top = df_final[df_final['normalized_score'] >= df_final['normalized_score'].quantile(0.95)]"
   ]
  },
  {
   "cell_type": "code",
   "execution_count": null,
   "metadata": {
    "colab": {
     "base_uri": "https://localhost:8080/"
    },
    "id": "NgTXdDolK2of",
    "outputId": "1695db10-8287-4156-87db-8f22e21c5ac4"
   },
   "outputs": [],
   "source": [
    "len(df_final['text'].unique())"
   ]
  },
  {
   "cell_type": "code",
   "execution_count": null,
   "metadata": {
    "colab": {
     "base_uri": "https://localhost:8080/",
     "height": 365
    },
    "id": "7RBjOQE1uUUL",
    "outputId": "b32cabdb-070a-435b-bcbc-db1de5c77d31"
   },
   "outputs": [],
   "source": [
    "histo = sns.displot(df_top, x='emotion', shrink=0.8)\n",
    "histo.savefig('histogram.png')"
   ]
  },
  {
   "cell_type": "code",
   "execution_count": null,
   "metadata": {
    "colab": {
     "base_uri": "https://localhost:8080/",
     "height": 365
    },
    "id": "lwCzWYnbLXY8",
    "outputId": "d352ba6c-86ca-479b-ae7a-28a198b4d280"
   },
   "outputs": [],
   "source": [
    "sns.set_theme(style=\"whitegrid\", color_codes=True)\n",
    "histo = sns.displot(df_top, x='normalized_score', hue='emotion', kind='kde')\n",
    "#histo.savefig('histogram.png')"
   ]
  },
  {
   "cell_type": "code",
   "execution_count": null,
   "metadata": {
    "colab": {
     "base_uri": "https://localhost:8080/"
    },
    "id": "cOmCO6fTuxOh",
    "outputId": "7cfeaa68-9a36-49eb-a701-8abc40ba39cc"
   },
   "outputs": [],
   "source": [
    "!pip install wordcloud\n",
    "import wordcloud"
   ]
  },
  {
   "cell_type": "code",
   "execution_count": null,
   "metadata": {
    "id": "TAbouNxqvFJ7"
   },
   "outputs": [],
   "source": []
  },
  {
   "cell_type": "code",
   "execution_count": null,
   "metadata": {
    "colab": {
     "base_uri": "https://localhost:8080/",
     "height": 401
    },
    "id": "o2UY1LtPwM3i",
    "outputId": "80ceb781-b2de-436f-8a89-76e69a726676"
   },
   "outputs": [],
   "source": [
    "sns.set_theme(style=\"whitegrid\", color_codes=True)\n",
    "sns.catplot(x='emotion', y='normalized_score', data=df_top, kind='box')"
   ]
  },
  {
   "cell_type": "code",
   "execution_count": null,
   "metadata": {
    "colab": {
     "base_uri": "https://localhost:8080/",
     "height": 382
    },
    "id": "yVuQ6jjoqnYf",
    "outputId": "0595b159-7cf3-46f0-d397-12dfee4b32ec"
   },
   "outputs": [],
   "source": [
    "sns.set_theme(style=\"ticks\", color_codes=True)\n",
    "fig = sns.catplot(x='emotion', y='normalized_score', data=df_top)\n",
    "#sns.displot(df_final, x='normalized_score', hue='emotion')\n",
    "fig.savefig('scatterplot.png')"
   ]
  },
  {
   "cell_type": "code",
   "execution_count": null,
   "metadata": {
    "id": "8fFsfWYchAoZ"
   },
   "outputs": [],
   "source": [
    "groups1 = df_final.groupby('emotion')\n",
    "groups2 = df_top.groupby('emotion')"
   ]
  },
  {
   "cell_type": "code",
   "execution_count": null,
   "metadata": {
    "colab": {
     "base_uri": "https://localhost:8080/",
     "height": 470
    },
    "id": "cHOfmvKiNHsT",
    "outputId": "87dc4d4c-e2f8-4d9b-b715-b01f671c80be"
   },
   "outputs": [],
   "source": [
    "fig, axes = plt.subplots(nrows=1,ncols=2, figsize=(25, 30))\n",
    "groups1['text'].count().plot.pie(ax = axes[0], subplots=True)\n",
    "groups2['text'].count().plot.pie(ax = axes[1], subplots=True)\n",
    "#df_top.plot(ax = axes[1], subplots=True).pie(y='text')"
   ]
  },
  {
   "cell_type": "code",
   "execution_count": null,
   "metadata": {
    "colab": {
     "base_uri": "https://localhost:8080/",
     "height": 269
    },
    "id": "b0xry3RrVSwJ",
    "outputId": "b5e17cfc-c44a-46bc-ef5e-c0ace7d43d0e"
   },
   "outputs": [],
   "source": [
    "groups1[['normalized_score']].median()"
   ]
  },
  {
   "cell_type": "code",
   "execution_count": null,
   "metadata": {
    "colab": {
     "base_uri": "https://localhost:8080/"
    },
    "id": "E0WbyAx7O2ax",
    "outputId": "71949b4f-c33c-4721-9d99-369560ae116c"
   },
   "outputs": [],
   "source": [
    "groups1['normalized_score'].mean()"
   ]
  },
  {
   "cell_type": "code",
   "execution_count": null,
   "metadata": {
    "colab": {
     "base_uri": "https://localhost:8080/"
    },
    "id": "uw9dzwOVWIO6",
    "outputId": "3da801d9-5ad9-45f8-de6b-3c5e10a8b123"
   },
   "outputs": [],
   "source": [
    "groups2['normalized_score'].mean().sort_values(ascending=False)"
   ]
  },
  {
   "cell_type": "code",
   "execution_count": null,
   "metadata": {
    "id": "5Pn8YSylWKUT"
   },
   "outputs": [],
   "source": [
    "df_sentiment = df_final.replace(to_replace={emotion:'joy'}, value='positive')\n",
    "df_sentiment = df_sentiment.replace(to_replace={emotion:'anger'}, value='negative')\n",
    "df_sentiment = df_sentiment.replace(to_replace={emotion:'sadness'}, value='negative')\n",
    "df_sentiment = df_sentiment.replace(to_replace={emotion:'disgust'}, value='negative')\n",
    "df_sentiment = df_sentiment.replace(to_replace={emotion:'fear'}, value='negative')\n",
    "df_sentiment = df_sentiment.replace(to_replace={emotion:'surprise'}, value='ambiguous')"
   ]
  },
  {
   "cell_type": "code",
   "execution_count": null,
   "metadata": {
    "id": "cbEBmZktjaJ8"
   },
   "outputs": [],
   "source": [
    "emotion='emotion'"
   ]
  },
  {
   "cell_type": "code",
   "execution_count": null,
   "metadata": {
    "colab": {
     "base_uri": "https://localhost:8080/",
     "height": 950
    },
    "id": "pgh89tfkbclT",
    "outputId": "f9540d3e-55b4-47cf-da3b-3035c2fa3d38"
   },
   "outputs": [],
   "source": [
    "grid = sns.FacetGrid(df_sentiment, col='subreddit', col_wrap=6)\n",
    "grid.map(sns.histplot, 'emotion', shrink=0.8)"
   ]
  },
  {
   "cell_type": "code",
   "execution_count": null,
   "metadata": {
    "id": "kdurB5HbmqMQ"
   },
   "outputs": [],
   "source": [
    "df_sentiment = df_sentiment[df_sentiment['normalized_score'] < 0.05]\n",
    "df_sentiment = df_sentiment[df_sentiment['normalized_score'] > 0.04]\n",
    "df_sentiment.drop('binned', axis=1)\n",
    "df_sentiment['binned'] = df_sentiment['normalized_score'].apply(lambda x: 0.0005*np.floor(x/0.0005))"
   ]
  },
  {
   "cell_type": "code",
   "execution_count": null,
   "metadata": {
    "id": "lm4V7D5xr8w2"
   },
   "outputs": [],
   "source": [
    "count_a = df_sentiment[df_sentiment['subreddit']=='aww'].groupby(['binned', 'emotion']).size().reset_index()\n",
    "count_b = df_sentiment[df_sentiment['subreddit']=='news'].groupby(['binned', 'emotion']).size().reset_index()\n",
    "count_a = pd.DataFrame(count_a)\n",
    "count_b = pd.DataFrame(count_b)"
   ]
  },
  {
   "cell_type": "code",
   "execution_count": null,
   "metadata": {
    "id": "kK4DfUdHsesK"
   },
   "outputs": [],
   "source": [
    "df_aww = df_sentiment[df_sentiment['subreddit']=='aww']\n",
    "df_news = df_sentiment[df_sentiment['subreddit']=='news']\n",
    "df_politics = df_sentiment[df_sentiment['subreddit']=='politics']\n",
    "df_worldnews = df_sentiment[df_sentiment['subreddit']=='worldnews']\n",
    "df_aita = df_sentiment[df_sentiment['subreddit']=='AmItheAsshole']\n",
    "df_trashy = df_sentiment[df_sentiment['subreddit']=='trashy']\n",
    "df_market = df_sentiment[df_sentiment['subreddit']=='Market76']"
   ]
  },
  {
   "cell_type": "code",
   "execution_count": null,
   "metadata": {
    "colab": {
     "base_uri": "https://localhost:8080/"
    },
    "id": "nKCrorFtB_2M",
    "outputId": "b4559144-f941-41ce-a281-c0d54194314a"
   },
   "outputs": [],
   "source": [
    "pd.concat([df_aww, df_news, df_politics, df_worldnews]).groupby(['subreddit', 'emotion'])['normalized_score'].mean()"
   ]
  },
  {
   "cell_type": "code",
   "execution_count": null,
   "metadata": {
    "colab": {
     "base_uri": "https://localhost:8080/"
    },
    "id": "uzl8jZcl6F4s",
    "outputId": "02a45e71-73b8-4f18-d194-6da8e1d26950"
   },
   "outputs": [],
   "source": [
    "df_news.groupby('emotion')['normalized_score'].mean()"
   ]
  },
  {
   "cell_type": "code",
   "execution_count": null,
   "metadata": {
    "colab": {
     "base_uri": "https://localhost:8080/",
     "height": 401
    },
    "id": "u_LsnH0VCn5m",
    "outputId": "b4777734-d5bc-4974-f92f-65fe60ea8497"
   },
   "outputs": [],
   "source": [
    "sns.catplot(x='emotion', y='normalized_score', data=df_news)"
   ]
  },
  {
   "cell_type": "code",
   "execution_count": null,
   "metadata": {
    "colab": {
     "base_uri": "https://localhost:8080/",
     "height": 304
    },
    "id": "pMxJl0e2sTw_",
    "outputId": "af9afd3b-a602-4036-9e87-0b680fa4c88c"
   },
   "outputs": [],
   "source": [
    "sns.lineplot(x=count_a['binned'], y=count_a[0], hue=count_a['emotion'])"
   ]
  },
  {
   "cell_type": "code",
   "execution_count": null,
   "metadata": {
    "colab": {
     "base_uri": "https://localhost:8080/",
     "height": 304
    },
    "id": "ie4HpnJe7wgV",
    "outputId": "65ae0f63-1a41-4954-8462-3ce7f6cf2275"
   },
   "outputs": [],
   "source": [
    "sns.lineplot(x=count_b['binned'], y=count_b[0], hue=count_b['emotion'])"
   ]
  }
 ],
 "metadata": {
  "colab": {
   "collapsed_sections": [],
   "name": "RedditSentimentPoster.ipynb",
   "provenance": [],
   "toc_visible": true
  },
  "kernelspec": {
   "display_name": "Python 3",
   "language": "python",
   "name": "python3"
  },
  "language_info": {
   "codemirror_mode": {
    "name": "ipython",
    "version": 2
   },
   "file_extension": ".py",
   "mimetype": "text/x-python",
   "name": "python",
   "nbconvert_exporter": "python",
   "pygments_lexer": "ipython2",
   "version": "2.7.17"
  },
  "widgets": {
   "application/vnd.jupyter.widget-state+json": {
    "00ab254e2dfe4e5c860b4dea5a6d8a78": {
     "model_module": "@jupyter-widgets/controls",
     "model_name": "FloatProgressModel",
     "state": {
      "_dom_classes": [],
      "_model_module": "@jupyter-widgets/controls",
      "_model_module_version": "1.5.0",
      "_model_name": "FloatProgressModel",
      "_view_count": null,
      "_view_module": "@jupyter-widgets/controls",
      "_view_module_version": "1.5.0",
      "_view_name": "ProgressView",
      "bar_style": "success",
      "description": "100%",
      "description_tooltip": null,
      "layout": "IPY_MODEL_086d2a72bb6f44ad9c1958346d75b480",
      "max": 2714,
      "min": 0,
      "orientation": "horizontal",
      "style": "IPY_MODEL_21bc0c9269c14c52b771add950e40d7d",
      "value": 2714
     }
    },
    "06a823ee01674d9ea20e538e82b3eeae": {
     "model_module": "@jupyter-widgets/base",
     "model_name": "LayoutModel",
     "state": {
      "_model_module": "@jupyter-widgets/base",
      "_model_module_version": "1.2.0",
      "_model_name": "LayoutModel",
      "_view_count": null,
      "_view_module": "@jupyter-widgets/base",
      "_view_module_version": "1.2.0",
      "_view_name": "LayoutView",
      "align_content": null,
      "align_items": null,
      "align_self": null,
      "border": null,
      "bottom": null,
      "display": null,
      "flex": null,
      "flex_flow": null,
      "grid_area": null,
      "grid_auto_columns": null,
      "grid_auto_flow": null,
      "grid_auto_rows": null,
      "grid_column": null,
      "grid_gap": null,
      "grid_row": null,
      "grid_template_areas": null,
      "grid_template_columns": null,
      "grid_template_rows": null,
      "height": null,
      "justify_content": null,
      "justify_items": null,
      "left": null,
      "margin": null,
      "max_height": null,
      "max_width": null,
      "min_height": null,
      "min_width": null,
      "object_fit": null,
      "object_position": null,
      "order": null,
      "overflow": null,
      "overflow_x": null,
      "overflow_y": null,
      "padding": null,
      "right": null,
      "top": null,
      "visibility": null,
      "width": null
     }
    },
    "086d2a72bb6f44ad9c1958346d75b480": {
     "model_module": "@jupyter-widgets/base",
     "model_name": "LayoutModel",
     "state": {
      "_model_module": "@jupyter-widgets/base",
      "_model_module_version": "1.2.0",
      "_model_name": "LayoutModel",
      "_view_count": null,
      "_view_module": "@jupyter-widgets/base",
      "_view_module_version": "1.2.0",
      "_view_name": "LayoutView",
      "align_content": null,
      "align_items": null,
      "align_self": null,
      "border": null,
      "bottom": null,
      "display": null,
      "flex": null,
      "flex_flow": null,
      "grid_area": null,
      "grid_auto_columns": null,
      "grid_auto_flow": null,
      "grid_auto_rows": null,
      "grid_column": null,
      "grid_gap": null,
      "grid_row": null,
      "grid_template_areas": null,
      "grid_template_columns": null,
      "grid_template_rows": null,
      "height": null,
      "justify_content": null,
      "justify_items": null,
      "left": null,
      "margin": null,
      "max_height": null,
      "max_width": null,
      "min_height": null,
      "min_width": null,
      "object_fit": null,
      "object_position": null,
      "order": null,
      "overflow": null,
      "overflow_x": null,
      "overflow_y": null,
      "padding": null,
      "right": null,
      "top": null,
      "visibility": null,
      "width": null
     }
    },
    "08a928bd58d54402a8a0ccd8b41e3a34": {
     "model_module": "@jupyter-widgets/controls",
     "model_name": "HTMLModel",
     "state": {
      "_dom_classes": [],
      "_model_module": "@jupyter-widgets/controls",
      "_model_module_version": "1.5.0",
      "_model_name": "HTMLModel",
      "_view_count": null,
      "_view_module": "@jupyter-widgets/controls",
      "_view_module_version": "1.5.0",
      "_view_name": "HTMLView",
      "description": "",
      "description_tooltip": null,
      "layout": "IPY_MODEL_adf1287639a94f9f922312b0a82378a9",
      "placeholder": "​",
      "style": "IPY_MODEL_de47df7e8af545998900801291b1b98e",
      "value": " 2714/2714 [21:39&lt;00:00,  2.09it/s]"
     }
    },
    "0da4f434796540708840829d4f8a0203": {
     "model_module": "@jupyter-widgets/controls",
     "model_name": "DescriptionStyleModel",
     "state": {
      "_model_module": "@jupyter-widgets/controls",
      "_model_module_version": "1.5.0",
      "_model_name": "DescriptionStyleModel",
      "_view_count": null,
      "_view_module": "@jupyter-widgets/base",
      "_view_module_version": "1.2.0",
      "_view_name": "StyleView",
      "description_width": ""
     }
    },
    "0de4928af84e424f9948318b7ae525a8": {
     "model_module": "@jupyter-widgets/base",
     "model_name": "LayoutModel",
     "state": {
      "_model_module": "@jupyter-widgets/base",
      "_model_module_version": "1.2.0",
      "_model_name": "LayoutModel",
      "_view_count": null,
      "_view_module": "@jupyter-widgets/base",
      "_view_module_version": "1.2.0",
      "_view_name": "LayoutView",
      "align_content": null,
      "align_items": null,
      "align_self": null,
      "border": null,
      "bottom": null,
      "display": null,
      "flex": null,
      "flex_flow": null,
      "grid_area": null,
      "grid_auto_columns": null,
      "grid_auto_flow": null,
      "grid_auto_rows": null,
      "grid_column": null,
      "grid_gap": null,
      "grid_row": null,
      "grid_template_areas": null,
      "grid_template_columns": null,
      "grid_template_rows": null,
      "height": null,
      "justify_content": null,
      "justify_items": null,
      "left": null,
      "margin": null,
      "max_height": null,
      "max_width": null,
      "min_height": null,
      "min_width": null,
      "object_fit": null,
      "object_position": null,
      "order": null,
      "overflow": null,
      "overflow_x": null,
      "overflow_y": null,
      "padding": null,
      "right": null,
      "top": null,
      "visibility": null,
      "width": null
     }
    },
    "12d87168e209411f8c0762bce6a7b03e": {
     "model_module": "@jupyter-widgets/base",
     "model_name": "LayoutModel",
     "state": {
      "_model_module": "@jupyter-widgets/base",
      "_model_module_version": "1.2.0",
      "_model_name": "LayoutModel",
      "_view_count": null,
      "_view_module": "@jupyter-widgets/base",
      "_view_module_version": "1.2.0",
      "_view_name": "LayoutView",
      "align_content": null,
      "align_items": null,
      "align_self": null,
      "border": null,
      "bottom": null,
      "display": null,
      "flex": null,
      "flex_flow": null,
      "grid_area": null,
      "grid_auto_columns": null,
      "grid_auto_flow": null,
      "grid_auto_rows": null,
      "grid_column": null,
      "grid_gap": null,
      "grid_row": null,
      "grid_template_areas": null,
      "grid_template_columns": null,
      "grid_template_rows": null,
      "height": null,
      "justify_content": null,
      "justify_items": null,
      "left": null,
      "margin": null,
      "max_height": null,
      "max_width": null,
      "min_height": null,
      "min_width": null,
      "object_fit": null,
      "object_position": null,
      "order": null,
      "overflow": null,
      "overflow_x": null,
      "overflow_y": null,
      "padding": null,
      "right": null,
      "top": null,
      "visibility": null,
      "width": null
     }
    },
    "134dd1b2a657463f932d3c7eadfb46b6": {
     "model_module": "@jupyter-widgets/base",
     "model_name": "LayoutModel",
     "state": {
      "_model_module": "@jupyter-widgets/base",
      "_model_module_version": "1.2.0",
      "_model_name": "LayoutModel",
      "_view_count": null,
      "_view_module": "@jupyter-widgets/base",
      "_view_module_version": "1.2.0",
      "_view_name": "LayoutView",
      "align_content": null,
      "align_items": null,
      "align_self": null,
      "border": null,
      "bottom": null,
      "display": null,
      "flex": null,
      "flex_flow": null,
      "grid_area": null,
      "grid_auto_columns": null,
      "grid_auto_flow": null,
      "grid_auto_rows": null,
      "grid_column": null,
      "grid_gap": null,
      "grid_row": null,
      "grid_template_areas": null,
      "grid_template_columns": null,
      "grid_template_rows": null,
      "height": null,
      "justify_content": null,
      "justify_items": null,
      "left": null,
      "margin": null,
      "max_height": null,
      "max_width": null,
      "min_height": null,
      "min_width": null,
      "object_fit": null,
      "object_position": null,
      "order": null,
      "overflow": null,
      "overflow_x": null,
      "overflow_y": null,
      "padding": null,
      "right": null,
      "top": null,
      "visibility": null,
      "width": null
     }
    },
    "1a99113869434ec480fccbf9bc9b2646": {
     "model_module": "@jupyter-widgets/controls",
     "model_name": "FloatProgressModel",
     "state": {
      "_dom_classes": [],
      "_model_module": "@jupyter-widgets/controls",
      "_model_module_version": "1.5.0",
      "_model_name": "FloatProgressModel",
      "_view_count": null,
      "_view_module": "@jupyter-widgets/controls",
      "_view_module_version": "1.5.0",
      "_view_name": "ProgressView",
      "bar_style": "success",
      "description": "100%",
      "description_tooltip": null,
      "layout": "IPY_MODEL_b6c95fed5e8a44a8b692b570236654ae",
      "max": 2714,
      "min": 0,
      "orientation": "horizontal",
      "style": "IPY_MODEL_f536e920f65a47d2a16dd8809037296f",
      "value": 2714
     }
    },
    "21bc0c9269c14c52b771add950e40d7d": {
     "model_module": "@jupyter-widgets/controls",
     "model_name": "ProgressStyleModel",
     "state": {
      "_model_module": "@jupyter-widgets/controls",
      "_model_module_version": "1.5.0",
      "_model_name": "ProgressStyleModel",
      "_view_count": null,
      "_view_module": "@jupyter-widgets/base",
      "_view_module_version": "1.2.0",
      "_view_name": "StyleView",
      "bar_color": null,
      "description_width": "initial"
     }
    },
    "30ebae26bb3a48a8be1ae3a3faa0a2e3": {
     "model_module": "@jupyter-widgets/controls",
     "model_name": "ProgressStyleModel",
     "state": {
      "_model_module": "@jupyter-widgets/controls",
      "_model_module_version": "1.5.0",
      "_model_name": "ProgressStyleModel",
      "_view_count": null,
      "_view_module": "@jupyter-widgets/base",
      "_view_module_version": "1.2.0",
      "_view_name": "StyleView",
      "bar_color": null,
      "description_width": "initial"
     }
    },
    "35a2f567d04241b2afe215c72833b51c": {
     "model_module": "@jupyter-widgets/base",
     "model_name": "LayoutModel",
     "state": {
      "_model_module": "@jupyter-widgets/base",
      "_model_module_version": "1.2.0",
      "_model_name": "LayoutModel",
      "_view_count": null,
      "_view_module": "@jupyter-widgets/base",
      "_view_module_version": "1.2.0",
      "_view_name": "LayoutView",
      "align_content": null,
      "align_items": null,
      "align_self": null,
      "border": null,
      "bottom": null,
      "display": null,
      "flex": null,
      "flex_flow": null,
      "grid_area": null,
      "grid_auto_columns": null,
      "grid_auto_flow": null,
      "grid_auto_rows": null,
      "grid_column": null,
      "grid_gap": null,
      "grid_row": null,
      "grid_template_areas": null,
      "grid_template_columns": null,
      "grid_template_rows": null,
      "height": null,
      "justify_content": null,
      "justify_items": null,
      "left": null,
      "margin": null,
      "max_height": null,
      "max_width": null,
      "min_height": null,
      "min_width": null,
      "object_fit": null,
      "object_position": null,
      "order": null,
      "overflow": null,
      "overflow_x": null,
      "overflow_y": null,
      "padding": null,
      "right": null,
      "top": null,
      "visibility": null,
      "width": null
     }
    },
    "38826d4c62b644469b34ecf7d71106e7": {
     "model_module": "@jupyter-widgets/controls",
     "model_name": "HBoxModel",
     "state": {
      "_dom_classes": [],
      "_model_module": "@jupyter-widgets/controls",
      "_model_module_version": "1.5.0",
      "_model_name": "HBoxModel",
      "_view_count": null,
      "_view_module": "@jupyter-widgets/controls",
      "_view_module_version": "1.5.0",
      "_view_name": "HBoxView",
      "box_style": "",
      "children": [
       "IPY_MODEL_c127452b68024bdb82fb2e4055837e61",
       "IPY_MODEL_f812a172670646e482a6e6729f073e38"
      ],
      "layout": "IPY_MODEL_c0e2806263b84985a080a06c6969097e"
     }
    },
    "396d2f399610427f96f10075b051a058": {
     "model_module": "@jupyter-widgets/base",
     "model_name": "LayoutModel",
     "state": {
      "_model_module": "@jupyter-widgets/base",
      "_model_module_version": "1.2.0",
      "_model_name": "LayoutModel",
      "_view_count": null,
      "_view_module": "@jupyter-widgets/base",
      "_view_module_version": "1.2.0",
      "_view_name": "LayoutView",
      "align_content": null,
      "align_items": null,
      "align_self": null,
      "border": null,
      "bottom": null,
      "display": null,
      "flex": null,
      "flex_flow": null,
      "grid_area": null,
      "grid_auto_columns": null,
      "grid_auto_flow": null,
      "grid_auto_rows": null,
      "grid_column": null,
      "grid_gap": null,
      "grid_row": null,
      "grid_template_areas": null,
      "grid_template_columns": null,
      "grid_template_rows": null,
      "height": null,
      "justify_content": null,
      "justify_items": null,
      "left": null,
      "margin": null,
      "max_height": null,
      "max_width": null,
      "min_height": null,
      "min_width": null,
      "object_fit": null,
      "object_position": null,
      "order": null,
      "overflow": null,
      "overflow_x": null,
      "overflow_y": null,
      "padding": null,
      "right": null,
      "top": null,
      "visibility": null,
      "width": null
     }
    },
    "41e0f9ecbfba42c9a31cf195c2260086": {
     "model_module": "@jupyter-widgets/controls",
     "model_name": "HBoxModel",
     "state": {
      "_dom_classes": [],
      "_model_module": "@jupyter-widgets/controls",
      "_model_module_version": "1.5.0",
      "_model_name": "HBoxModel",
      "_view_count": null,
      "_view_module": "@jupyter-widgets/controls",
      "_view_module_version": "1.5.0",
      "_view_name": "HBoxView",
      "box_style": "",
      "children": [
       "IPY_MODEL_495fa285954b4bd1bb42e8d5606b87ce",
       "IPY_MODEL_f2b20a1194ae4b5789f60cc6bd233c09"
      ],
      "layout": "IPY_MODEL_c641cc3f36ad4bf78d84595eab973dfa"
     }
    },
    "43b14a9e6cbc41bfb21bc37dc865b884": {
     "model_module": "@jupyter-widgets/controls",
     "model_name": "HTMLModel",
     "state": {
      "_dom_classes": [],
      "_model_module": "@jupyter-widgets/controls",
      "_model_module_version": "1.5.0",
      "_model_name": "HTMLModel",
      "_view_count": null,
      "_view_module": "@jupyter-widgets/controls",
      "_view_module_version": "1.5.0",
      "_view_name": "HTMLView",
      "description": "",
      "description_tooltip": null,
      "layout": "IPY_MODEL_ba1096dbed2b4ced90714134e05ff742",
      "placeholder": "​",
      "style": "IPY_MODEL_e2bbb18724284672a38bc888a65e8cf2",
      "value": " 340/340 [15:42&lt;00:00,  2.77s/it]"
     }
    },
    "495fa285954b4bd1bb42e8d5606b87ce": {
     "model_module": "@jupyter-widgets/controls",
     "model_name": "FloatProgressModel",
     "state": {
      "_dom_classes": [],
      "_model_module": "@jupyter-widgets/controls",
      "_model_module_version": "1.5.0",
      "_model_name": "FloatProgressModel",
      "_view_count": null,
      "_view_module": "@jupyter-widgets/controls",
      "_view_module_version": "1.5.0",
      "_view_name": "ProgressView",
      "bar_style": "success",
      "description": "100%",
      "description_tooltip": null,
      "layout": "IPY_MODEL_7cda0dd270114562afe337b9048bebb9",
      "max": 2714,
      "min": 0,
      "orientation": "horizontal",
      "style": "IPY_MODEL_897594628a024ff7a89217c8bef9f8fb",
      "value": 2714
     }
    },
    "4d5f16344d294655804db5d2f6402f5c": {
     "model_module": "@jupyter-widgets/controls",
     "model_name": "FloatProgressModel",
     "state": {
      "_dom_classes": [],
      "_model_module": "@jupyter-widgets/controls",
      "_model_module_version": "1.5.0",
      "_model_name": "FloatProgressModel",
      "_view_count": null,
      "_view_module": "@jupyter-widgets/controls",
      "_view_module_version": "1.5.0",
      "_view_name": "ProgressView",
      "bar_style": "success",
      "description": "100%",
      "description_tooltip": null,
      "layout": "IPY_MODEL_35a2f567d04241b2afe215c72833b51c",
      "max": 62500,
      "min": 0,
      "orientation": "horizontal",
      "style": "IPY_MODEL_ff53bad9f41d4218b05588fe2101538e",
      "value": 62500
     }
    },
    "4faa4a4d2b384aac9a619a92c2df112b": {
     "model_module": "@jupyter-widgets/controls",
     "model_name": "HBoxModel",
     "state": {
      "_dom_classes": [],
      "_model_module": "@jupyter-widgets/controls",
      "_model_module_version": "1.5.0",
      "_model_name": "HBoxModel",
      "_view_count": null,
      "_view_module": "@jupyter-widgets/controls",
      "_view_module_version": "1.5.0",
      "_view_name": "HBoxView",
      "box_style": "",
      "children": [
       "IPY_MODEL_8e1988a444e24d31b1ae97a5bd23a929",
       "IPY_MODEL_e66472a7af134ec2b17db1fd4e98840b"
      ],
      "layout": "IPY_MODEL_0de4928af84e424f9948318b7ae525a8"
     }
    },
    "574e18ed615d41c4987f7ca9addee77f": {
     "model_module": "@jupyter-widgets/controls",
     "model_name": "HTMLModel",
     "state": {
      "_dom_classes": [],
      "_model_module": "@jupyter-widgets/controls",
      "_model_module_version": "1.5.0",
      "_model_name": "HTMLModel",
      "_view_count": null,
      "_view_module": "@jupyter-widgets/controls",
      "_view_module_version": "1.5.0",
      "_view_name": "HTMLView",
      "description": "",
      "description_tooltip": null,
      "layout": "IPY_MODEL_9e852d3ea2564839a8c2adaca200e7f2",
      "placeholder": "​",
      "style": "IPY_MODEL_0da4f434796540708840829d4f8a0203",
      "value": " 2714/2714 [15:30&lt;00:00,  2.92it/s]"
     }
    },
    "5fb44a97438241fcba1188f248bf8eba": {
     "model_module": "@jupyter-widgets/base",
     "model_name": "LayoutModel",
     "state": {
      "_model_module": "@jupyter-widgets/base",
      "_model_module_version": "1.2.0",
      "_model_name": "LayoutModel",
      "_view_count": null,
      "_view_module": "@jupyter-widgets/base",
      "_view_module_version": "1.2.0",
      "_view_name": "LayoutView",
      "align_content": null,
      "align_items": null,
      "align_self": null,
      "border": null,
      "bottom": null,
      "display": null,
      "flex": null,
      "flex_flow": null,
      "grid_area": null,
      "grid_auto_columns": null,
      "grid_auto_flow": null,
      "grid_auto_rows": null,
      "grid_column": null,
      "grid_gap": null,
      "grid_row": null,
      "grid_template_areas": null,
      "grid_template_columns": null,
      "grid_template_rows": null,
      "height": null,
      "justify_content": null,
      "justify_items": null,
      "left": null,
      "margin": null,
      "max_height": null,
      "max_width": null,
      "min_height": null,
      "min_width": null,
      "object_fit": null,
      "object_position": null,
      "order": null,
      "overflow": null,
      "overflow_x": null,
      "overflow_y": null,
      "padding": null,
      "right": null,
      "top": null,
      "visibility": null,
      "width": null
     }
    },
    "602ec7cdef484572b3a4cdb3f609e702": {
     "model_module": "@jupyter-widgets/controls",
     "model_name": "ProgressStyleModel",
     "state": {
      "_model_module": "@jupyter-widgets/controls",
      "_model_module_version": "1.5.0",
      "_model_name": "ProgressStyleModel",
      "_view_count": null,
      "_view_module": "@jupyter-widgets/base",
      "_view_module_version": "1.2.0",
      "_view_name": "StyleView",
      "bar_color": null,
      "description_width": "initial"
     }
    },
    "6283d7d30001416ea7c57a08234bf2c4": {
     "model_module": "@jupyter-widgets/controls",
     "model_name": "HBoxModel",
     "state": {
      "_dom_classes": [],
      "_model_module": "@jupyter-widgets/controls",
      "_model_module_version": "1.5.0",
      "_model_name": "HBoxModel",
      "_view_count": null,
      "_view_module": "@jupyter-widgets/controls",
      "_view_module_version": "1.5.0",
      "_view_name": "HBoxView",
      "box_style": "",
      "children": [
       "IPY_MODEL_4d5f16344d294655804db5d2f6402f5c",
       "IPY_MODEL_df83f76ab04f45b3a37e4dc790c2b508"
      ],
      "layout": "IPY_MODEL_134dd1b2a657463f932d3c7eadfb46b6"
     }
    },
    "6427146d1a7848678a0d6bd68e8fb839": {
     "model_module": "@jupyter-widgets/controls",
     "model_name": "HTMLModel",
     "state": {
      "_dom_classes": [],
      "_model_module": "@jupyter-widgets/controls",
      "_model_module_version": "1.5.0",
      "_model_name": "HTMLModel",
      "_view_count": null,
      "_view_module": "@jupyter-widgets/controls",
      "_view_module_version": "1.5.0",
      "_view_name": "HTMLView",
      "description": "",
      "description_tooltip": null,
      "layout": "IPY_MODEL_afb584da37fa4736953513a548a9373c",
      "placeholder": "​",
      "style": "IPY_MODEL_74f72461c5a04568b9e67271aa8f210b",
      "value": " 340/340 [09:34&lt;00:00,  1.69s/it]"
     }
    },
    "64c271edb36f48599710ec951078f51e": {
     "model_module": "@jupyter-widgets/controls",
     "model_name": "DescriptionStyleModel",
     "state": {
      "_model_module": "@jupyter-widgets/controls",
      "_model_module_version": "1.5.0",
      "_model_name": "DescriptionStyleModel",
      "_view_count": null,
      "_view_module": "@jupyter-widgets/base",
      "_view_module_version": "1.2.0",
      "_view_name": "StyleView",
      "description_width": ""
     }
    },
    "65e5cfba0b7a487f83107b2084ea8dcb": {
     "model_module": "@jupyter-widgets/base",
     "model_name": "LayoutModel",
     "state": {
      "_model_module": "@jupyter-widgets/base",
      "_model_module_version": "1.2.0",
      "_model_name": "LayoutModel",
      "_view_count": null,
      "_view_module": "@jupyter-widgets/base",
      "_view_module_version": "1.2.0",
      "_view_name": "LayoutView",
      "align_content": null,
      "align_items": null,
      "align_self": null,
      "border": null,
      "bottom": null,
      "display": null,
      "flex": null,
      "flex_flow": null,
      "grid_area": null,
      "grid_auto_columns": null,
      "grid_auto_flow": null,
      "grid_auto_rows": null,
      "grid_column": null,
      "grid_gap": null,
      "grid_row": null,
      "grid_template_areas": null,
      "grid_template_columns": null,
      "grid_template_rows": null,
      "height": null,
      "justify_content": null,
      "justify_items": null,
      "left": null,
      "margin": null,
      "max_height": null,
      "max_width": null,
      "min_height": null,
      "min_width": null,
      "object_fit": null,
      "object_position": null,
      "order": null,
      "overflow": null,
      "overflow_x": null,
      "overflow_y": null,
      "padding": null,
      "right": null,
      "top": null,
      "visibility": null,
      "width": null
     }
    },
    "6a9a4c318c2c44dfb2b53c85401b4c97": {
     "model_module": "@jupyter-widgets/controls",
     "model_name": "ProgressStyleModel",
     "state": {
      "_model_module": "@jupyter-widgets/controls",
      "_model_module_version": "1.5.0",
      "_model_name": "ProgressStyleModel",
      "_view_count": null,
      "_view_module": "@jupyter-widgets/base",
      "_view_module_version": "1.2.0",
      "_view_name": "StyleView",
      "bar_color": null,
      "description_width": "initial"
     }
    },
    "71e4cfde7c314c0a9e2c0f4648638b21": {
     "model_module": "@jupyter-widgets/controls",
     "model_name": "DescriptionStyleModel",
     "state": {
      "_model_module": "@jupyter-widgets/controls",
      "_model_module_version": "1.5.0",
      "_model_name": "DescriptionStyleModel",
      "_view_count": null,
      "_view_module": "@jupyter-widgets/base",
      "_view_module_version": "1.2.0",
      "_view_name": "StyleView",
      "description_width": ""
     }
    },
    "724268ec2bc04d2eb7cf65daa3373f13": {
     "model_module": "@jupyter-widgets/base",
     "model_name": "LayoutModel",
     "state": {
      "_model_module": "@jupyter-widgets/base",
      "_model_module_version": "1.2.0",
      "_model_name": "LayoutModel",
      "_view_count": null,
      "_view_module": "@jupyter-widgets/base",
      "_view_module_version": "1.2.0",
      "_view_name": "LayoutView",
      "align_content": null,
      "align_items": null,
      "align_self": null,
      "border": null,
      "bottom": null,
      "display": null,
      "flex": null,
      "flex_flow": null,
      "grid_area": null,
      "grid_auto_columns": null,
      "grid_auto_flow": null,
      "grid_auto_rows": null,
      "grid_column": null,
      "grid_gap": null,
      "grid_row": null,
      "grid_template_areas": null,
      "grid_template_columns": null,
      "grid_template_rows": null,
      "height": null,
      "justify_content": null,
      "justify_items": null,
      "left": null,
      "margin": null,
      "max_height": null,
      "max_width": null,
      "min_height": null,
      "min_width": null,
      "object_fit": null,
      "object_position": null,
      "order": null,
      "overflow": null,
      "overflow_x": null,
      "overflow_y": null,
      "padding": null,
      "right": null,
      "top": null,
      "visibility": null,
      "width": null
     }
    },
    "74f72461c5a04568b9e67271aa8f210b": {
     "model_module": "@jupyter-widgets/controls",
     "model_name": "DescriptionStyleModel",
     "state": {
      "_model_module": "@jupyter-widgets/controls",
      "_model_module_version": "1.5.0",
      "_model_name": "DescriptionStyleModel",
      "_view_count": null,
      "_view_module": "@jupyter-widgets/base",
      "_view_module_version": "1.2.0",
      "_view_name": "StyleView",
      "description_width": ""
     }
    },
    "792f270e959745deb4b2b7033a0c776a": {
     "model_module": "@jupyter-widgets/base",
     "model_name": "LayoutModel",
     "state": {
      "_model_module": "@jupyter-widgets/base",
      "_model_module_version": "1.2.0",
      "_model_name": "LayoutModel",
      "_view_count": null,
      "_view_module": "@jupyter-widgets/base",
      "_view_module_version": "1.2.0",
      "_view_name": "LayoutView",
      "align_content": null,
      "align_items": null,
      "align_self": null,
      "border": null,
      "bottom": null,
      "display": null,
      "flex": null,
      "flex_flow": null,
      "grid_area": null,
      "grid_auto_columns": null,
      "grid_auto_flow": null,
      "grid_auto_rows": null,
      "grid_column": null,
      "grid_gap": null,
      "grid_row": null,
      "grid_template_areas": null,
      "grid_template_columns": null,
      "grid_template_rows": null,
      "height": null,
      "justify_content": null,
      "justify_items": null,
      "left": null,
      "margin": null,
      "max_height": null,
      "max_width": null,
      "min_height": null,
      "min_width": null,
      "object_fit": null,
      "object_position": null,
      "order": null,
      "overflow": null,
      "overflow_x": null,
      "overflow_y": null,
      "padding": null,
      "right": null,
      "top": null,
      "visibility": null,
      "width": null
     }
    },
    "7cda0dd270114562afe337b9048bebb9": {
     "model_module": "@jupyter-widgets/base",
     "model_name": "LayoutModel",
     "state": {
      "_model_module": "@jupyter-widgets/base",
      "_model_module_version": "1.2.0",
      "_model_name": "LayoutModel",
      "_view_count": null,
      "_view_module": "@jupyter-widgets/base",
      "_view_module_version": "1.2.0",
      "_view_name": "LayoutView",
      "align_content": null,
      "align_items": null,
      "align_self": null,
      "border": null,
      "bottom": null,
      "display": null,
      "flex": null,
      "flex_flow": null,
      "grid_area": null,
      "grid_auto_columns": null,
      "grid_auto_flow": null,
      "grid_auto_rows": null,
      "grid_column": null,
      "grid_gap": null,
      "grid_row": null,
      "grid_template_areas": null,
      "grid_template_columns": null,
      "grid_template_rows": null,
      "height": null,
      "justify_content": null,
      "justify_items": null,
      "left": null,
      "margin": null,
      "max_height": null,
      "max_width": null,
      "min_height": null,
      "min_width": null,
      "object_fit": null,
      "object_position": null,
      "order": null,
      "overflow": null,
      "overflow_x": null,
      "overflow_y": null,
      "padding": null,
      "right": null,
      "top": null,
      "visibility": null,
      "width": null
     }
    },
    "7f9768ad7ee4473faa0bd37ad3e04de0": {
     "model_module": "@jupyter-widgets/base",
     "model_name": "LayoutModel",
     "state": {
      "_model_module": "@jupyter-widgets/base",
      "_model_module_version": "1.2.0",
      "_model_name": "LayoutModel",
      "_view_count": null,
      "_view_module": "@jupyter-widgets/base",
      "_view_module_version": "1.2.0",
      "_view_name": "LayoutView",
      "align_content": null,
      "align_items": null,
      "align_self": null,
      "border": null,
      "bottom": null,
      "display": null,
      "flex": null,
      "flex_flow": null,
      "grid_area": null,
      "grid_auto_columns": null,
      "grid_auto_flow": null,
      "grid_auto_rows": null,
      "grid_column": null,
      "grid_gap": null,
      "grid_row": null,
      "grid_template_areas": null,
      "grid_template_columns": null,
      "grid_template_rows": null,
      "height": null,
      "justify_content": null,
      "justify_items": null,
      "left": null,
      "margin": null,
      "max_height": null,
      "max_width": null,
      "min_height": null,
      "min_width": null,
      "object_fit": null,
      "object_position": null,
      "order": null,
      "overflow": null,
      "overflow_x": null,
      "overflow_y": null,
      "padding": null,
      "right": null,
      "top": null,
      "visibility": null,
      "width": null
     }
    },
    "897594628a024ff7a89217c8bef9f8fb": {
     "model_module": "@jupyter-widgets/controls",
     "model_name": "ProgressStyleModel",
     "state": {
      "_model_module": "@jupyter-widgets/controls",
      "_model_module_version": "1.5.0",
      "_model_name": "ProgressStyleModel",
      "_view_count": null,
      "_view_module": "@jupyter-widgets/base",
      "_view_module_version": "1.2.0",
      "_view_name": "StyleView",
      "bar_color": null,
      "description_width": "initial"
     }
    },
    "8e1988a444e24d31b1ae97a5bd23a929": {
     "model_module": "@jupyter-widgets/controls",
     "model_name": "FloatProgressModel",
     "state": {
      "_dom_classes": [],
      "_model_module": "@jupyter-widgets/controls",
      "_model_module_version": "1.5.0",
      "_model_name": "FloatProgressModel",
      "_view_count": null,
      "_view_module": "@jupyter-widgets/controls",
      "_view_module_version": "1.5.0",
      "_view_name": "ProgressView",
      "bar_style": "success",
      "description": "100%",
      "description_tooltip": null,
      "layout": "IPY_MODEL_ba4dab8a99724e97baf9d657cd7f32f6",
      "max": 340,
      "min": 0,
      "orientation": "horizontal",
      "style": "IPY_MODEL_602ec7cdef484572b3a4cdb3f609e702",
      "value": 340
     }
    },
    "930d6adf05c1464fb8fd0d300476fd37": {
     "model_module": "@jupyter-widgets/controls",
     "model_name": "FloatProgressModel",
     "state": {
      "_dom_classes": [],
      "_model_module": "@jupyter-widgets/controls",
      "_model_module_version": "1.5.0",
      "_model_name": "FloatProgressModel",
      "_view_count": null,
      "_view_module": "@jupyter-widgets/controls",
      "_view_module_version": "1.5.0",
      "_view_name": "ProgressView",
      "bar_style": "success",
      "description": "100%",
      "description_tooltip": null,
      "layout": "IPY_MODEL_d035b2e26ab745229eec620c74c532ea",
      "max": 2714,
      "min": 0,
      "orientation": "horizontal",
      "style": "IPY_MODEL_c8b6d2800f984affbf2a11728948924f",
      "value": 2714
     }
    },
    "94c61e76c5324ca081859dce0907ebed": {
     "model_module": "@jupyter-widgets/controls",
     "model_name": "DescriptionStyleModel",
     "state": {
      "_model_module": "@jupyter-widgets/controls",
      "_model_module_version": "1.5.0",
      "_model_name": "DescriptionStyleModel",
      "_view_count": null,
      "_view_module": "@jupyter-widgets/base",
      "_view_module_version": "1.2.0",
      "_view_name": "StyleView",
      "description_width": ""
     }
    },
    "9e852d3ea2564839a8c2adaca200e7f2": {
     "model_module": "@jupyter-widgets/base",
     "model_name": "LayoutModel",
     "state": {
      "_model_module": "@jupyter-widgets/base",
      "_model_module_version": "1.2.0",
      "_model_name": "LayoutModel",
      "_view_count": null,
      "_view_module": "@jupyter-widgets/base",
      "_view_module_version": "1.2.0",
      "_view_name": "LayoutView",
      "align_content": null,
      "align_items": null,
      "align_self": null,
      "border": null,
      "bottom": null,
      "display": null,
      "flex": null,
      "flex_flow": null,
      "grid_area": null,
      "grid_auto_columns": null,
      "grid_auto_flow": null,
      "grid_auto_rows": null,
      "grid_column": null,
      "grid_gap": null,
      "grid_row": null,
      "grid_template_areas": null,
      "grid_template_columns": null,
      "grid_template_rows": null,
      "height": null,
      "justify_content": null,
      "justify_items": null,
      "left": null,
      "margin": null,
      "max_height": null,
      "max_width": null,
      "min_height": null,
      "min_width": null,
      "object_fit": null,
      "object_position": null,
      "order": null,
      "overflow": null,
      "overflow_x": null,
      "overflow_y": null,
      "padding": null,
      "right": null,
      "top": null,
      "visibility": null,
      "width": null
     }
    },
    "aabc6eb9788049e3aaed5ceac058b017": {
     "model_module": "@jupyter-widgets/base",
     "model_name": "LayoutModel",
     "state": {
      "_model_module": "@jupyter-widgets/base",
      "_model_module_version": "1.2.0",
      "_model_name": "LayoutModel",
      "_view_count": null,
      "_view_module": "@jupyter-widgets/base",
      "_view_module_version": "1.2.0",
      "_view_name": "LayoutView",
      "align_content": null,
      "align_items": null,
      "align_self": null,
      "border": null,
      "bottom": null,
      "display": null,
      "flex": null,
      "flex_flow": null,
      "grid_area": null,
      "grid_auto_columns": null,
      "grid_auto_flow": null,
      "grid_auto_rows": null,
      "grid_column": null,
      "grid_gap": null,
      "grid_row": null,
      "grid_template_areas": null,
      "grid_template_columns": null,
      "grid_template_rows": null,
      "height": null,
      "justify_content": null,
      "justify_items": null,
      "left": null,
      "margin": null,
      "max_height": null,
      "max_width": null,
      "min_height": null,
      "min_width": null,
      "object_fit": null,
      "object_position": null,
      "order": null,
      "overflow": null,
      "overflow_x": null,
      "overflow_y": null,
      "padding": null,
      "right": null,
      "top": null,
      "visibility": null,
      "width": null
     }
    },
    "ac4e2da1f5c64c9f958c3f3ab6475e6f": {
     "model_module": "@jupyter-widgets/controls",
     "model_name": "HBoxModel",
     "state": {
      "_dom_classes": [],
      "_model_module": "@jupyter-widgets/controls",
      "_model_module_version": "1.5.0",
      "_model_name": "HBoxModel",
      "_view_count": null,
      "_view_module": "@jupyter-widgets/controls",
      "_view_module_version": "1.5.0",
      "_view_name": "HBoxView",
      "box_style": "",
      "children": [
       "IPY_MODEL_e4b1230ea3c1408481c3069f52f1ed70",
       "IPY_MODEL_6427146d1a7848678a0d6bd68e8fb839"
      ],
      "layout": "IPY_MODEL_5fb44a97438241fcba1188f248bf8eba"
     }
    },
    "adf1287639a94f9f922312b0a82378a9": {
     "model_module": "@jupyter-widgets/base",
     "model_name": "LayoutModel",
     "state": {
      "_model_module": "@jupyter-widgets/base",
      "_model_module_version": "1.2.0",
      "_model_name": "LayoutModel",
      "_view_count": null,
      "_view_module": "@jupyter-widgets/base",
      "_view_module_version": "1.2.0",
      "_view_name": "LayoutView",
      "align_content": null,
      "align_items": null,
      "align_self": null,
      "border": null,
      "bottom": null,
      "display": null,
      "flex": null,
      "flex_flow": null,
      "grid_area": null,
      "grid_auto_columns": null,
      "grid_auto_flow": null,
      "grid_auto_rows": null,
      "grid_column": null,
      "grid_gap": null,
      "grid_row": null,
      "grid_template_areas": null,
      "grid_template_columns": null,
      "grid_template_rows": null,
      "height": null,
      "justify_content": null,
      "justify_items": null,
      "left": null,
      "margin": null,
      "max_height": null,
      "max_width": null,
      "min_height": null,
      "min_width": null,
      "object_fit": null,
      "object_position": null,
      "order": null,
      "overflow": null,
      "overflow_x": null,
      "overflow_y": null,
      "padding": null,
      "right": null,
      "top": null,
      "visibility": null,
      "width": null
     }
    },
    "afb584da37fa4736953513a548a9373c": {
     "model_module": "@jupyter-widgets/base",
     "model_name": "LayoutModel",
     "state": {
      "_model_module": "@jupyter-widgets/base",
      "_model_module_version": "1.2.0",
      "_model_name": "LayoutModel",
      "_view_count": null,
      "_view_module": "@jupyter-widgets/base",
      "_view_module_version": "1.2.0",
      "_view_name": "LayoutView",
      "align_content": null,
      "align_items": null,
      "align_self": null,
      "border": null,
      "bottom": null,
      "display": null,
      "flex": null,
      "flex_flow": null,
      "grid_area": null,
      "grid_auto_columns": null,
      "grid_auto_flow": null,
      "grid_auto_rows": null,
      "grid_column": null,
      "grid_gap": null,
      "grid_row": null,
      "grid_template_areas": null,
      "grid_template_columns": null,
      "grid_template_rows": null,
      "height": null,
      "justify_content": null,
      "justify_items": null,
      "left": null,
      "margin": null,
      "max_height": null,
      "max_width": null,
      "min_height": null,
      "min_width": null,
      "object_fit": null,
      "object_position": null,
      "order": null,
      "overflow": null,
      "overflow_x": null,
      "overflow_y": null,
      "padding": null,
      "right": null,
      "top": null,
      "visibility": null,
      "width": null
     }
    },
    "b2ee81c4202d42e580e9d06c4b4c7ea2": {
     "model_module": "@jupyter-widgets/controls",
     "model_name": "HBoxModel",
     "state": {
      "_dom_classes": [],
      "_model_module": "@jupyter-widgets/controls",
      "_model_module_version": "1.5.0",
      "_model_name": "HBoxModel",
      "_view_count": null,
      "_view_module": "@jupyter-widgets/controls",
      "_view_module_version": "1.5.0",
      "_view_name": "HBoxView",
      "box_style": "",
      "children": [
       "IPY_MODEL_1a99113869434ec480fccbf9bc9b2646",
       "IPY_MODEL_bb7ec90f14634365be74b83a3f2d24cf"
      ],
      "layout": "IPY_MODEL_aabc6eb9788049e3aaed5ceac058b017"
     }
    },
    "b5cacd287bca431bbe30716bda4b468b": {
     "model_module": "@jupyter-widgets/controls",
     "model_name": "DescriptionStyleModel",
     "state": {
      "_model_module": "@jupyter-widgets/controls",
      "_model_module_version": "1.5.0",
      "_model_name": "DescriptionStyleModel",
      "_view_count": null,
      "_view_module": "@jupyter-widgets/base",
      "_view_module_version": "1.2.0",
      "_view_name": "StyleView",
      "description_width": ""
     }
    },
    "b6c95fed5e8a44a8b692b570236654ae": {
     "model_module": "@jupyter-widgets/base",
     "model_name": "LayoutModel",
     "state": {
      "_model_module": "@jupyter-widgets/base",
      "_model_module_version": "1.2.0",
      "_model_name": "LayoutModel",
      "_view_count": null,
      "_view_module": "@jupyter-widgets/base",
      "_view_module_version": "1.2.0",
      "_view_name": "LayoutView",
      "align_content": null,
      "align_items": null,
      "align_self": null,
      "border": null,
      "bottom": null,
      "display": null,
      "flex": null,
      "flex_flow": null,
      "grid_area": null,
      "grid_auto_columns": null,
      "grid_auto_flow": null,
      "grid_auto_rows": null,
      "grid_column": null,
      "grid_gap": null,
      "grid_row": null,
      "grid_template_areas": null,
      "grid_template_columns": null,
      "grid_template_rows": null,
      "height": null,
      "justify_content": null,
      "justify_items": null,
      "left": null,
      "margin": null,
      "max_height": null,
      "max_width": null,
      "min_height": null,
      "min_width": null,
      "object_fit": null,
      "object_position": null,
      "order": null,
      "overflow": null,
      "overflow_x": null,
      "overflow_y": null,
      "padding": null,
      "right": null,
      "top": null,
      "visibility": null,
      "width": null
     }
    },
    "b98508de4c1d402c98fa3b6e3ef7dec9": {
     "model_module": "@jupyter-widgets/base",
     "model_name": "LayoutModel",
     "state": {
      "_model_module": "@jupyter-widgets/base",
      "_model_module_version": "1.2.0",
      "_model_name": "LayoutModel",
      "_view_count": null,
      "_view_module": "@jupyter-widgets/base",
      "_view_module_version": "1.2.0",
      "_view_name": "LayoutView",
      "align_content": null,
      "align_items": null,
      "align_self": null,
      "border": null,
      "bottom": null,
      "display": null,
      "flex": null,
      "flex_flow": null,
      "grid_area": null,
      "grid_auto_columns": null,
      "grid_auto_flow": null,
      "grid_auto_rows": null,
      "grid_column": null,
      "grid_gap": null,
      "grid_row": null,
      "grid_template_areas": null,
      "grid_template_columns": null,
      "grid_template_rows": null,
      "height": null,
      "justify_content": null,
      "justify_items": null,
      "left": null,
      "margin": null,
      "max_height": null,
      "max_width": null,
      "min_height": null,
      "min_width": null,
      "object_fit": null,
      "object_position": null,
      "order": null,
      "overflow": null,
      "overflow_x": null,
      "overflow_y": null,
      "padding": null,
      "right": null,
      "top": null,
      "visibility": null,
      "width": null
     }
    },
    "ba1096dbed2b4ced90714134e05ff742": {
     "model_module": "@jupyter-widgets/base",
     "model_name": "LayoutModel",
     "state": {
      "_model_module": "@jupyter-widgets/base",
      "_model_module_version": "1.2.0",
      "_model_name": "LayoutModel",
      "_view_count": null,
      "_view_module": "@jupyter-widgets/base",
      "_view_module_version": "1.2.0",
      "_view_name": "LayoutView",
      "align_content": null,
      "align_items": null,
      "align_self": null,
      "border": null,
      "bottom": null,
      "display": null,
      "flex": null,
      "flex_flow": null,
      "grid_area": null,
      "grid_auto_columns": null,
      "grid_auto_flow": null,
      "grid_auto_rows": null,
      "grid_column": null,
      "grid_gap": null,
      "grid_row": null,
      "grid_template_areas": null,
      "grid_template_columns": null,
      "grid_template_rows": null,
      "height": null,
      "justify_content": null,
      "justify_items": null,
      "left": null,
      "margin": null,
      "max_height": null,
      "max_width": null,
      "min_height": null,
      "min_width": null,
      "object_fit": null,
      "object_position": null,
      "order": null,
      "overflow": null,
      "overflow_x": null,
      "overflow_y": null,
      "padding": null,
      "right": null,
      "top": null,
      "visibility": null,
      "width": null
     }
    },
    "ba4dab8a99724e97baf9d657cd7f32f6": {
     "model_module": "@jupyter-widgets/base",
     "model_name": "LayoutModel",
     "state": {
      "_model_module": "@jupyter-widgets/base",
      "_model_module_version": "1.2.0",
      "_model_name": "LayoutModel",
      "_view_count": null,
      "_view_module": "@jupyter-widgets/base",
      "_view_module_version": "1.2.0",
      "_view_name": "LayoutView",
      "align_content": null,
      "align_items": null,
      "align_self": null,
      "border": null,
      "bottom": null,
      "display": null,
      "flex": null,
      "flex_flow": null,
      "grid_area": null,
      "grid_auto_columns": null,
      "grid_auto_flow": null,
      "grid_auto_rows": null,
      "grid_column": null,
      "grid_gap": null,
      "grid_row": null,
      "grid_template_areas": null,
      "grid_template_columns": null,
      "grid_template_rows": null,
      "height": null,
      "justify_content": null,
      "justify_items": null,
      "left": null,
      "margin": null,
      "max_height": null,
      "max_width": null,
      "min_height": null,
      "min_width": null,
      "object_fit": null,
      "object_position": null,
      "order": null,
      "overflow": null,
      "overflow_x": null,
      "overflow_y": null,
      "padding": null,
      "right": null,
      "top": null,
      "visibility": null,
      "width": null
     }
    },
    "bb7ec90f14634365be74b83a3f2d24cf": {
     "model_module": "@jupyter-widgets/controls",
     "model_name": "HTMLModel",
     "state": {
      "_dom_classes": [],
      "_model_module": "@jupyter-widgets/controls",
      "_model_module_version": "1.5.0",
      "_model_name": "HTMLModel",
      "_view_count": null,
      "_view_module": "@jupyter-widgets/controls",
      "_view_module_version": "1.5.0",
      "_view_name": "HTMLView",
      "description": "",
      "description_tooltip": null,
      "layout": "IPY_MODEL_12d87168e209411f8c0762bce6a7b03e",
      "placeholder": "​",
      "style": "IPY_MODEL_94c61e76c5324ca081859dce0907ebed",
      "value": " 2714/2714 [06:10&lt;00:00,  7.32it/s]"
     }
    },
    "c0e2806263b84985a080a06c6969097e": {
     "model_module": "@jupyter-widgets/base",
     "model_name": "LayoutModel",
     "state": {
      "_model_module": "@jupyter-widgets/base",
      "_model_module_version": "1.2.0",
      "_model_name": "LayoutModel",
      "_view_count": null,
      "_view_module": "@jupyter-widgets/base",
      "_view_module_version": "1.2.0",
      "_view_name": "LayoutView",
      "align_content": null,
      "align_items": null,
      "align_self": null,
      "border": null,
      "bottom": null,
      "display": null,
      "flex": null,
      "flex_flow": null,
      "grid_area": null,
      "grid_auto_columns": null,
      "grid_auto_flow": null,
      "grid_auto_rows": null,
      "grid_column": null,
      "grid_gap": null,
      "grid_row": null,
      "grid_template_areas": null,
      "grid_template_columns": null,
      "grid_template_rows": null,
      "height": null,
      "justify_content": null,
      "justify_items": null,
      "left": null,
      "margin": null,
      "max_height": null,
      "max_width": null,
      "min_height": null,
      "min_width": null,
      "object_fit": null,
      "object_position": null,
      "order": null,
      "overflow": null,
      "overflow_x": null,
      "overflow_y": null,
      "padding": null,
      "right": null,
      "top": null,
      "visibility": null,
      "width": null
     }
    },
    "c127452b68024bdb82fb2e4055837e61": {
     "model_module": "@jupyter-widgets/controls",
     "model_name": "FloatProgressModel",
     "state": {
      "_dom_classes": [],
      "_model_module": "@jupyter-widgets/controls",
      "_model_module_version": "1.5.0",
      "_model_name": "FloatProgressModel",
      "_view_count": null,
      "_view_module": "@jupyter-widgets/controls",
      "_view_module_version": "1.5.0",
      "_view_name": "ProgressView",
      "bar_style": "success",
      "description": "100%",
      "description_tooltip": null,
      "layout": "IPY_MODEL_792f270e959745deb4b2b7033a0c776a",
      "max": 340,
      "min": 0,
      "orientation": "horizontal",
      "style": "IPY_MODEL_6a9a4c318c2c44dfb2b53c85401b4c97",
      "value": 340
     }
    },
    "c23b2fb8c9cd488090ce78a6b2b3c00a": {
     "model_module": "@jupyter-widgets/controls",
     "model_name": "HBoxModel",
     "state": {
      "_dom_classes": [],
      "_model_module": "@jupyter-widgets/controls",
      "_model_module_version": "1.5.0",
      "_model_name": "HBoxModel",
      "_view_count": null,
      "_view_module": "@jupyter-widgets/controls",
      "_view_module_version": "1.5.0",
      "_view_name": "HBoxView",
      "box_style": "",
      "children": [
       "IPY_MODEL_930d6adf05c1464fb8fd0d300476fd37",
       "IPY_MODEL_08a928bd58d54402a8a0ccd8b41e3a34"
      ],
      "layout": "IPY_MODEL_724268ec2bc04d2eb7cf65daa3373f13"
     }
    },
    "c641cc3f36ad4bf78d84595eab973dfa": {
     "model_module": "@jupyter-widgets/base",
     "model_name": "LayoutModel",
     "state": {
      "_model_module": "@jupyter-widgets/base",
      "_model_module_version": "1.2.0",
      "_model_name": "LayoutModel",
      "_view_count": null,
      "_view_module": "@jupyter-widgets/base",
      "_view_module_version": "1.2.0",
      "_view_name": "LayoutView",
      "align_content": null,
      "align_items": null,
      "align_self": null,
      "border": null,
      "bottom": null,
      "display": null,
      "flex": null,
      "flex_flow": null,
      "grid_area": null,
      "grid_auto_columns": null,
      "grid_auto_flow": null,
      "grid_auto_rows": null,
      "grid_column": null,
      "grid_gap": null,
      "grid_row": null,
      "grid_template_areas": null,
      "grid_template_columns": null,
      "grid_template_rows": null,
      "height": null,
      "justify_content": null,
      "justify_items": null,
      "left": null,
      "margin": null,
      "max_height": null,
      "max_width": null,
      "min_height": null,
      "min_width": null,
      "object_fit": null,
      "object_position": null,
      "order": null,
      "overflow": null,
      "overflow_x": null,
      "overflow_y": null,
      "padding": null,
      "right": null,
      "top": null,
      "visibility": null,
      "width": null
     }
    },
    "c665107c7a4042dbbda6491f4320ba9b": {
     "model_module": "@jupyter-widgets/base",
     "model_name": "LayoutModel",
     "state": {
      "_model_module": "@jupyter-widgets/base",
      "_model_module_version": "1.2.0",
      "_model_name": "LayoutModel",
      "_view_count": null,
      "_view_module": "@jupyter-widgets/base",
      "_view_module_version": "1.2.0",
      "_view_name": "LayoutView",
      "align_content": null,
      "align_items": null,
      "align_self": null,
      "border": null,
      "bottom": null,
      "display": null,
      "flex": null,
      "flex_flow": null,
      "grid_area": null,
      "grid_auto_columns": null,
      "grid_auto_flow": null,
      "grid_auto_rows": null,
      "grid_column": null,
      "grid_gap": null,
      "grid_row": null,
      "grid_template_areas": null,
      "grid_template_columns": null,
      "grid_template_rows": null,
      "height": null,
      "justify_content": null,
      "justify_items": null,
      "left": null,
      "margin": null,
      "max_height": null,
      "max_width": null,
      "min_height": null,
      "min_width": null,
      "object_fit": null,
      "object_position": null,
      "order": null,
      "overflow": null,
      "overflow_x": null,
      "overflow_y": null,
      "padding": null,
      "right": null,
      "top": null,
      "visibility": null,
      "width": null
     }
    },
    "c8b6d2800f984affbf2a11728948924f": {
     "model_module": "@jupyter-widgets/controls",
     "model_name": "ProgressStyleModel",
     "state": {
      "_model_module": "@jupyter-widgets/controls",
      "_model_module_version": "1.5.0",
      "_model_name": "ProgressStyleModel",
      "_view_count": null,
      "_view_module": "@jupyter-widgets/base",
      "_view_module_version": "1.2.0",
      "_view_name": "StyleView",
      "bar_color": null,
      "description_width": "initial"
     }
    },
    "d035b2e26ab745229eec620c74c532ea": {
     "model_module": "@jupyter-widgets/base",
     "model_name": "LayoutModel",
     "state": {
      "_model_module": "@jupyter-widgets/base",
      "_model_module_version": "1.2.0",
      "_model_name": "LayoutModel",
      "_view_count": null,
      "_view_module": "@jupyter-widgets/base",
      "_view_module_version": "1.2.0",
      "_view_name": "LayoutView",
      "align_content": null,
      "align_items": null,
      "align_self": null,
      "border": null,
      "bottom": null,
      "display": null,
      "flex": null,
      "flex_flow": null,
      "grid_area": null,
      "grid_auto_columns": null,
      "grid_auto_flow": null,
      "grid_auto_rows": null,
      "grid_column": null,
      "grid_gap": null,
      "grid_row": null,
      "grid_template_areas": null,
      "grid_template_columns": null,
      "grid_template_rows": null,
      "height": null,
      "justify_content": null,
      "justify_items": null,
      "left": null,
      "margin": null,
      "max_height": null,
      "max_width": null,
      "min_height": null,
      "min_width": null,
      "object_fit": null,
      "object_position": null,
      "order": null,
      "overflow": null,
      "overflow_x": null,
      "overflow_y": null,
      "padding": null,
      "right": null,
      "top": null,
      "visibility": null,
      "width": null
     }
    },
    "d6671e701c774d7d85476c3532d7b3e5": {
     "model_module": "@jupyter-widgets/controls",
     "model_name": "HBoxModel",
     "state": {
      "_dom_classes": [],
      "_model_module": "@jupyter-widgets/controls",
      "_model_module_version": "1.5.0",
      "_model_name": "HBoxModel",
      "_view_count": null,
      "_view_module": "@jupyter-widgets/controls",
      "_view_module_version": "1.5.0",
      "_view_name": "HBoxView",
      "box_style": "",
      "children": [
       "IPY_MODEL_e7dd893768594d50b6282301804ccdd0",
       "IPY_MODEL_43b14a9e6cbc41bfb21bc37dc865b884"
      ],
      "layout": "IPY_MODEL_c665107c7a4042dbbda6491f4320ba9b"
     }
    },
    "de47df7e8af545998900801291b1b98e": {
     "model_module": "@jupyter-widgets/controls",
     "model_name": "DescriptionStyleModel",
     "state": {
      "_model_module": "@jupyter-widgets/controls",
      "_model_module_version": "1.5.0",
      "_model_name": "DescriptionStyleModel",
      "_view_count": null,
      "_view_module": "@jupyter-widgets/base",
      "_view_module_version": "1.2.0",
      "_view_name": "StyleView",
      "description_width": ""
     }
    },
    "df83f76ab04f45b3a37e4dc790c2b508": {
     "model_module": "@jupyter-widgets/controls",
     "model_name": "HTMLModel",
     "state": {
      "_dom_classes": [],
      "_model_module": "@jupyter-widgets/controls",
      "_model_module_version": "1.5.0",
      "_model_name": "HTMLModel",
      "_view_count": null,
      "_view_module": "@jupyter-widgets/controls",
      "_view_module_version": "1.5.0",
      "_view_name": "HTMLView",
      "description": "",
      "description_tooltip": null,
      "layout": "IPY_MODEL_06a823ee01674d9ea20e538e82b3eeae",
      "placeholder": "​",
      "style": "IPY_MODEL_b5cacd287bca431bbe30716bda4b468b",
      "value": " 62500/62500 [50:40&lt;00:00, 20.56it/s]"
     }
    },
    "e2bbb18724284672a38bc888a65e8cf2": {
     "model_module": "@jupyter-widgets/controls",
     "model_name": "DescriptionStyleModel",
     "state": {
      "_model_module": "@jupyter-widgets/controls",
      "_model_module_version": "1.5.0",
      "_model_name": "DescriptionStyleModel",
      "_view_count": null,
      "_view_module": "@jupyter-widgets/base",
      "_view_module_version": "1.2.0",
      "_view_name": "StyleView",
      "description_width": ""
     }
    },
    "e4b1230ea3c1408481c3069f52f1ed70": {
     "model_module": "@jupyter-widgets/controls",
     "model_name": "FloatProgressModel",
     "state": {
      "_dom_classes": [],
      "_model_module": "@jupyter-widgets/controls",
      "_model_module_version": "1.5.0",
      "_model_name": "FloatProgressModel",
      "_view_count": null,
      "_view_module": "@jupyter-widgets/controls",
      "_view_module_version": "1.5.0",
      "_view_name": "ProgressView",
      "bar_style": "success",
      "description": "100%",
      "description_tooltip": null,
      "layout": "IPY_MODEL_396d2f399610427f96f10075b051a058",
      "max": 340,
      "min": 0,
      "orientation": "horizontal",
      "style": "IPY_MODEL_30ebae26bb3a48a8be1ae3a3faa0a2e3",
      "value": 340
     }
    },
    "e66472a7af134ec2b17db1fd4e98840b": {
     "model_module": "@jupyter-widgets/controls",
     "model_name": "HTMLModel",
     "state": {
      "_dom_classes": [],
      "_model_module": "@jupyter-widgets/controls",
      "_model_module_version": "1.5.0",
      "_model_name": "HTMLModel",
      "_view_count": null,
      "_view_module": "@jupyter-widgets/controls",
      "_view_module_version": "1.5.0",
      "_view_name": "HTMLView",
      "description": "",
      "description_tooltip": null,
      "layout": "IPY_MODEL_b98508de4c1d402c98fa3b6e3ef7dec9",
      "placeholder": "​",
      "style": "IPY_MODEL_fbc8a0b9b14d4101b48f514f9af100a6",
      "value": " 340/340 [00:49&lt;00:00,  6.90it/s]"
     }
    },
    "e7dd893768594d50b6282301804ccdd0": {
     "model_module": "@jupyter-widgets/controls",
     "model_name": "FloatProgressModel",
     "state": {
      "_dom_classes": [],
      "_model_module": "@jupyter-widgets/controls",
      "_model_module_version": "1.5.0",
      "_model_name": "FloatProgressModel",
      "_view_count": null,
      "_view_module": "@jupyter-widgets/controls",
      "_view_module_version": "1.5.0",
      "_view_name": "ProgressView",
      "bar_style": "success",
      "description": "100%",
      "description_tooltip": null,
      "layout": "IPY_MODEL_7f9768ad7ee4473faa0bd37ad3e04de0",
      "max": 340,
      "min": 0,
      "orientation": "horizontal",
      "style": "IPY_MODEL_eccd4f4ee26f4ff8b14aa1418055c461",
      "value": 340
     }
    },
    "eb655518a98a4ad0bd40c890293d31f5": {
     "model_module": "@jupyter-widgets/base",
     "model_name": "LayoutModel",
     "state": {
      "_model_module": "@jupyter-widgets/base",
      "_model_module_version": "1.2.0",
      "_model_name": "LayoutModel",
      "_view_count": null,
      "_view_module": "@jupyter-widgets/base",
      "_view_module_version": "1.2.0",
      "_view_name": "LayoutView",
      "align_content": null,
      "align_items": null,
      "align_self": null,
      "border": null,
      "bottom": null,
      "display": null,
      "flex": null,
      "flex_flow": null,
      "grid_area": null,
      "grid_auto_columns": null,
      "grid_auto_flow": null,
      "grid_auto_rows": null,
      "grid_column": null,
      "grid_gap": null,
      "grid_row": null,
      "grid_template_areas": null,
      "grid_template_columns": null,
      "grid_template_rows": null,
      "height": null,
      "justify_content": null,
      "justify_items": null,
      "left": null,
      "margin": null,
      "max_height": null,
      "max_width": null,
      "min_height": null,
      "min_width": null,
      "object_fit": null,
      "object_position": null,
      "order": null,
      "overflow": null,
      "overflow_x": null,
      "overflow_y": null,
      "padding": null,
      "right": null,
      "top": null,
      "visibility": null,
      "width": null
     }
    },
    "ec615a993c824d76b858403e8158a9e4": {
     "model_module": "@jupyter-widgets/controls",
     "model_name": "HBoxModel",
     "state": {
      "_dom_classes": [],
      "_model_module": "@jupyter-widgets/controls",
      "_model_module_version": "1.5.0",
      "_model_name": "HBoxModel",
      "_view_count": null,
      "_view_module": "@jupyter-widgets/controls",
      "_view_module_version": "1.5.0",
      "_view_name": "HBoxView",
      "box_style": "",
      "children": [
       "IPY_MODEL_00ab254e2dfe4e5c860b4dea5a6d8a78",
       "IPY_MODEL_574e18ed615d41c4987f7ca9addee77f"
      ],
      "layout": "IPY_MODEL_eb655518a98a4ad0bd40c890293d31f5"
     }
    },
    "eccd4f4ee26f4ff8b14aa1418055c461": {
     "model_module": "@jupyter-widgets/controls",
     "model_name": "ProgressStyleModel",
     "state": {
      "_model_module": "@jupyter-widgets/controls",
      "_model_module_version": "1.5.0",
      "_model_name": "ProgressStyleModel",
      "_view_count": null,
      "_view_module": "@jupyter-widgets/base",
      "_view_module_version": "1.2.0",
      "_view_name": "StyleView",
      "bar_color": null,
      "description_width": "initial"
     }
    },
    "f19d1c0415ed4cb5a884e48d9c29f32f": {
     "model_module": "@jupyter-widgets/base",
     "model_name": "LayoutModel",
     "state": {
      "_model_module": "@jupyter-widgets/base",
      "_model_module_version": "1.2.0",
      "_model_name": "LayoutModel",
      "_view_count": null,
      "_view_module": "@jupyter-widgets/base",
      "_view_module_version": "1.2.0",
      "_view_name": "LayoutView",
      "align_content": null,
      "align_items": null,
      "align_self": null,
      "border": null,
      "bottom": null,
      "display": null,
      "flex": null,
      "flex_flow": null,
      "grid_area": null,
      "grid_auto_columns": null,
      "grid_auto_flow": null,
      "grid_auto_rows": null,
      "grid_column": null,
      "grid_gap": null,
      "grid_row": null,
      "grid_template_areas": null,
      "grid_template_columns": null,
      "grid_template_rows": null,
      "height": null,
      "justify_content": null,
      "justify_items": null,
      "left": null,
      "margin": null,
      "max_height": null,
      "max_width": null,
      "min_height": null,
      "min_width": null,
      "object_fit": null,
      "object_position": null,
      "order": null,
      "overflow": null,
      "overflow_x": null,
      "overflow_y": null,
      "padding": null,
      "right": null,
      "top": null,
      "visibility": null,
      "width": null
     }
    },
    "f2b20a1194ae4b5789f60cc6bd233c09": {
     "model_module": "@jupyter-widgets/controls",
     "model_name": "HTMLModel",
     "state": {
      "_dom_classes": [],
      "_model_module": "@jupyter-widgets/controls",
      "_model_module_version": "1.5.0",
      "_model_name": "HTMLModel",
      "_view_count": null,
      "_view_module": "@jupyter-widgets/controls",
      "_view_module_version": "1.5.0",
      "_view_name": "HTMLView",
      "description": "",
      "description_tooltip": null,
      "layout": "IPY_MODEL_f19d1c0415ed4cb5a884e48d9c29f32f",
      "placeholder": "​",
      "style": "IPY_MODEL_71e4cfde7c314c0a9e2c0f4648638b21",
      "value": " 2714/2714 [09:21&lt;00:00,  4.83it/s]"
     }
    },
    "f536e920f65a47d2a16dd8809037296f": {
     "model_module": "@jupyter-widgets/controls",
     "model_name": "ProgressStyleModel",
     "state": {
      "_model_module": "@jupyter-widgets/controls",
      "_model_module_version": "1.5.0",
      "_model_name": "ProgressStyleModel",
      "_view_count": null,
      "_view_module": "@jupyter-widgets/base",
      "_view_module_version": "1.2.0",
      "_view_name": "StyleView",
      "bar_color": null,
      "description_width": "initial"
     }
    },
    "f812a172670646e482a6e6729f073e38": {
     "model_module": "@jupyter-widgets/controls",
     "model_name": "HTMLModel",
     "state": {
      "_dom_classes": [],
      "_model_module": "@jupyter-widgets/controls",
      "_model_module_version": "1.5.0",
      "_model_name": "HTMLModel",
      "_view_count": null,
      "_view_module": "@jupyter-widgets/controls",
      "_view_module_version": "1.5.0",
      "_view_name": "HTMLView",
      "description": "",
      "description_tooltip": null,
      "layout": "IPY_MODEL_65e5cfba0b7a487f83107b2084ea8dcb",
      "placeholder": "​",
      "style": "IPY_MODEL_64c271edb36f48599710ec951078f51e",
      "value": " 340/340 [00:12&lt;00:00, 26.24it/s]"
     }
    },
    "fbc8a0b9b14d4101b48f514f9af100a6": {
     "model_module": "@jupyter-widgets/controls",
     "model_name": "DescriptionStyleModel",
     "state": {
      "_model_module": "@jupyter-widgets/controls",
      "_model_module_version": "1.5.0",
      "_model_name": "DescriptionStyleModel",
      "_view_count": null,
      "_view_module": "@jupyter-widgets/base",
      "_view_module_version": "1.2.0",
      "_view_name": "StyleView",
      "description_width": ""
     }
    },
    "ff53bad9f41d4218b05588fe2101538e": {
     "model_module": "@jupyter-widgets/controls",
     "model_name": "ProgressStyleModel",
     "state": {
      "_model_module": "@jupyter-widgets/controls",
      "_model_module_version": "1.5.0",
      "_model_name": "ProgressStyleModel",
      "_view_count": null,
      "_view_module": "@jupyter-widgets/base",
      "_view_module_version": "1.2.0",
      "_view_name": "StyleView",
      "bar_color": null,
      "description_width": "initial"
     }
    }
   }
  }
 },
 "nbformat": 4,
 "nbformat_minor": 1
}
